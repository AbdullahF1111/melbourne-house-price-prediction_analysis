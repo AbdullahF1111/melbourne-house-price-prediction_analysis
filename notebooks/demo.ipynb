import joblib
import os
import pandas as pd

# The new house features to be used for prediction
new_house_features = {
    'Rooms': 3,
    'Bathroom': 2,
    'Car': 2,
    'Landsize': 500,
    'Distance': 6.5,
    'Type_t': 0, # Not a townhouse
    'Type_u': 0, # Not a unit (so it's a house)
    'Regionname_Northern Metropolitan': 1,
    'Regionname_Southern Metropolitan': 0,
    'Regionname_Western Metropolitan': 0
}

# Step 1: Define the path to the model file
# Make sure this path is correct, relative to the project's root directory
model_filename = 'model/house_price_model.joblib'

# Check if the file exists
if os.path.exists(model_filename):
    print(f"File found: {model_filename}")
else:
    print(f"Error: Model file not found at {model_filename}")

# Step 2: Load the model from the file
try:
    loaded_model = joblib.load(model_filename)
    print("Model loaded successfully!")
except Exception as e:
    print(f"Error loading model: {e}")
    loaded_model = None

# Step 3: Use the loaded model to make a prediction
if loaded_model:
    # Create a DataFrame from the new data
    new_data = pd.DataFrame([new_house_features])

    # Make the prediction
    prediction = loaded_model.predict(new_data)

    # Print the result
    print(f"\nThe predicted house price is: ${prediction[0]:,.2f}")
else:
    print("Cannot make prediction because model failed to load.")
